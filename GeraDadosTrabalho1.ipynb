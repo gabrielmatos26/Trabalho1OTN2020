{
 "cells": [
  {
   "cell_type": "code",
   "execution_count": null,
   "metadata": {},
   "outputs": [],
   "source": [
    "import numpy as np\n",
    "from tqdm import tqdm_notebook\n",
    "import matplotlib.pyplot as plt\n",
    "from scipy.spatial import distance_matrix\n",
    "from sklearn import manifold\n",
    "import random\n",
    "import pickle\n",
    "from sklearn.decomposition import PCA\n",
    "from itertools import combinations, product\n",
    "%matplotlib notebook"
   ]
  },
  {
   "cell_type": "code",
   "execution_count": null,
   "metadata": {},
   "outputs": [],
   "source": [
    "from sa import SA, FSA, Jcython\n",
    "from time import time"
   ]
  },
  {
   "cell_type": "code",
   "execution_count": null,
   "metadata": {},
   "outputs": [],
   "source": [
    "seed = 10"
   ]
  },
  {
   "cell_type": "code",
   "execution_count": null,
   "metadata": {},
   "outputs": [],
   "source": [
    "N = 2000\n",
    "dimensao1 = 5\n",
    "dimensao2 = 10\n",
    "def guardaDados(taxa_desbalanceamento):\n",
    "    np.random.seed(seed)\n",
    "    G1_5 = np.hstack([np.random.multivariate_normal(np.ones(dimensao1)*2.5, np.eye(dimensao1)*0.1,\\\n",
    "                                       int(N/taxa_desbalanceamento)),\n",
    "                    np.ones(int(N/taxa_desbalanceamento)).reshape(-1,1)])\n",
    "    G2_5 = np.hstack([np.random.multivariate_normal(np.ones(dimensao1)*4.5, np.eye(dimensao1), N),\n",
    "                    2*np.ones(N).reshape(-1,1)])\n",
    "    G3_5 = np.hstack([np.random.multivariate_normal(np.zeros(dimensao1)*2, np.eye(dimensao1), N),\n",
    "                    3*np.ones(N).reshape(-1,1)])\n",
    "\n",
    "    G1_10 = np.hstack([np.random.multivariate_normal(np.ones(dimensao2)*2.5, np.eye(dimensao2)*0.1,\\\n",
    "                                       int(N/taxa_desbalanceamento)),\n",
    "                    np.ones(int(N/taxa_desbalanceamento)).reshape(-1,1)])\n",
    "    G2_10 = np.hstack([np.random.multivariate_normal(np.ones(dimensao2)*4.5, np.eye(dimensao2), N),\n",
    "                    2*np.ones(N).reshape(-1,1)])\n",
    "    G3_10 = np.hstack([np.random.multivariate_normal(np.zeros(dimensao2)*2, np.eye(dimensao2), N),\n",
    "                    3*np.ones(N).reshape(-1,1)])\n",
    "\n",
    "    indexes_shuffled = np.arange(len(G1_5) + len(G2_5) + len(G3_5))\n",
    "    random.Random(seed).shuffle(indexes_shuffled)\n",
    "    #embaralhar os indices pra dificultar pro algoritmo\n",
    "    X_R5 = np.vstack([G1_5, G2_5, G3_5])[indexes_shuffled]\n",
    "    X_R10 = np.vstack([G1_10, G2_10, G3_10])[indexes_shuffled]\n",
    "    centroids_R5 = np.array([np.mean(G1_5[:,:-1], axis=0),\\\n",
    "                              np.mean(G2_5[:,:-1], axis=0), np.mean(G3_5[:,:-1], axis=0)])\n",
    "    centroids_R10 = np.array([np.mean(G1_10[:,:-1], axis=0),\\\n",
    "                              np.mean(G2_10[:,:-1], axis=0), np.mean(G3_10[:,:-1], axis=0)])\n",
    "\n",
    "    clf = PCA(n_components=2, random_state=np.random.RandomState(seed=seed))\n",
    "    X_R2_5 = clf.fit_transform(X_R5[:,:-1])\n",
    "    X_R2_10 = clf.fit_transform(X_R10[:,:-1])\n",
    "    centroids_R2_5 = clf.fit_transform(centroids_R5)\n",
    "    centroids_R2_10 = clf.fit_transform(centroids_R10)\n",
    "    \n",
    "    data = {'X_R5': X_R5, 'X_R10': X_R10, 'Y_R5':centroids_R5, 'Y_R10':centroids_R10,\\\n",
    "        'X_R2_5':X_R2_5, \"Y_R2_5\":centroids_R2_5, 'X_R2_10':X_R2_10, \"Y_R2_10\":centroids_R2_10}\n",
    "#     data = {'X_R5': X_R5, 'X_R10': X_R10, 'Y_R5':centroids_R5, 'Y_R10':centroids_R10}\n",
    "    with open('dados_desbalanceamento_' + str(taxa_desbalanceamento) + '.pkl', 'wb') as file:\n",
    "        pickle.dump(data, file)\n",
    "        print(\"Dados guardados\")\n",
    "                      "
   ]
  },
  {
   "cell_type": "code",
   "execution_count": null,
   "metadata": {},
   "outputs": [],
   "source": [
    "guardaDados(10)\n",
    "guardaDados(20)"
   ]
  },
  {
   "cell_type": "code",
   "execution_count": null,
   "metadata": {},
   "outputs": [],
   "source": [
    "N = 2000\n",
    "dimensao1 = 15\n",
    "dimensao2 = 20\n",
    "def guardaDados(taxa_desbalanceamento):\n",
    "    np.random.seed(seed)\n",
    "    G1_15 = np.hstack([np.random.multivariate_normal(np.ones(dimensao1)*2.5, np.eye(dimensao1)*0.7,\\\n",
    "                                       int(N/taxa_desbalanceamento)),\n",
    "                    np.ones(int(N/taxa_desbalanceamento)).reshape(-1,1)])\n",
    "    G2_15 = np.hstack([np.random.multivariate_normal(np.ones(dimensao1)*4, np.eye(dimensao1), N),\n",
    "                    2*np.ones(N).reshape(-1,1)])\n",
    "    G3_15 = np.hstack([np.random.multivariate_normal(np.zeros(dimensao1)*2, np.eye(dimensao1), N),\n",
    "                    3*np.ones(N).reshape(-1,1)])\n",
    "\n",
    "    G1_20 = np.hstack([np.random.multivariate_normal(np.ones(dimensao2)*2.5, np.eye(dimensao2)*0.7,\\\n",
    "                                       int(N/taxa_desbalanceamento)),\n",
    "                    np.ones(int(N/taxa_desbalanceamento)).reshape(-1,1)])\n",
    "    G2_20 = np.hstack([np.random.multivariate_normal(np.ones(dimensao2)*4, np.eye(dimensao2), N),\n",
    "                    2*np.ones(N).reshape(-1,1)])\n",
    "    G3_20 = np.hstack([np.random.multivariate_normal(np.zeros(dimensao2)*2, np.eye(dimensao2), N),\n",
    "                    3*np.ones(N).reshape(-1,1)])\n",
    "\n",
    "    indexes_shuffled = np.arange(len(G1_15) + len(G2_15) + len(G3_15))\n",
    "    random.Random(seed).shuffle(indexes_shuffled)\n",
    "    #embaralhar os indices pra dificultar pro algoritmo\n",
    "    X_R15 = np.vstack([G1_15, G2_15, G3_15])[indexes_shuffled]\n",
    "    X_R20 = np.vstack([G1_20, G2_20, G3_20])[indexes_shuffled]\n",
    "    centroids_R15 = np.array([np.mean(G1_15[:,:-1], axis=0),\\\n",
    "                              np.mean(G2_15[:,:-1], axis=0), np.mean(G3_15[:,:-1], axis=0)])\n",
    "    centroids_R20 = np.array([np.mean(G1_20[:,:-1], axis=0),\\\n",
    "                              np.mean(G2_20[:,:-1], axis=0), np.mean(G3_20[:,:-1], axis=0)])\n",
    "\n",
    "    clf = PCA(n_components=2, random_state=np.random.RandomState(seed=seed))\n",
    "    X_R2_15 = clf.fit_transform(X_R15[:,:-1])\n",
    "    X_R2_20 = clf.fit_transform(X_R20[:,:-1])\n",
    "    centroids_R2_15 = clf.fit_transform(centroids_R15)\n",
    "    centroids_R2_20 = clf.fit_transform(centroids_R20)\n",
    "    \n",
    "    data = {'X_R15': X_R15, 'X_R20': X_R20, 'Y_R15':centroids_R15, 'Y_R20':centroids_R20,\\\n",
    "        'X_R2_15':X_R2_15, \"Y_R2_15\":centroids_R2_15, 'X_R2_20':X_R2_20, \"Y_R2_20\":centroids_R2_20}\n",
    "#     data = {'X_R5': X_R5, 'X_R10': X_R10, 'Y_R5':centroids_R5, 'Y_R10':centroids_R10}\n",
    "    with open('dados_novos_desbalanceamento_' + str(taxa_desbalanceamento) + '.pkl', 'wb') as file:\n",
    "        pickle.dump(data, file)\n",
    "        print(\"Dados guardados\")\n",
    "                      "
   ]
  },
  {
   "cell_type": "code",
   "execution_count": null,
   "metadata": {},
   "outputs": [],
   "source": [
    "guardaDados(10)\n",
    "guardaDados(20)"
   ]
  },
  {
   "cell_type": "code",
   "execution_count": null,
   "metadata": {},
   "outputs": [],
   "source": [
    "with open('dados_desbalanceamento_10.pkl', 'rb') as file:\n",
    "    d10 = pickle.load(file)\n",
    "with open('dados_desbalanceamento_20.pkl', 'rb') as file:\n",
    "    d20 = pickle.load(file)\n",
    "data = {'10':d10, '20':d20}"
   ]
  },
  {
   "cell_type": "code",
   "execution_count": null,
   "metadata": {},
   "outputs": [],
   "source": [
    "def run(param):\n",
    "    desb = [10, 20]\n",
    "    dim = [5, 10]\n",
    "    resultados_sa = {}\n",
    "    resultados_fsa = {}\n",
    "    t0, k, n, mean_start = param\n",
    "    for i in desb:\n",
    "        resultados_sa[str(i)] = {}\n",
    "        for d in dim:\n",
    "            X = data[str(i)]['X_R'+str(d)][:,:-1]\n",
    "            t1=time()\n",
    "            sa_tmp = list(SA(X, t0, k, 3, n, mean_start))\n",
    "            t2=time()\n",
    "            sa_tmp.append(t2-t1)\n",
    "            if str(i) not in resultados_sa:\n",
    "                resultados_sa[str(i)] = {}\n",
    "            resultados_sa[str(i)][str(d)] = sa_tmp\n",
    "\n",
    "            t1=time()\n",
    "            fsa_tmp = list(FSA(X, t0, k, 3, n, mean_start))\n",
    "            t2=time()\n",
    "            fsa_tmp.append(t2-t1)\n",
    "            if str(i) not in resultados_fsa:\n",
    "                resultados_fsa[str(i)] = {}\n",
    "            resultados_fsa[str(i)][str(d)] = fsa_tmp\n",
    "    with open('resultados/resultados_SA_param='+str(param)+'.pkl', 'wb') as file:\n",
    "        pickle.dump(resultados_sa, file)\n",
    "        print(\"Dados para T0={0}, K={1} e N={2} para SA guardados\".format(*param))\n",
    "    with open('resultados/resultados_FSA_param='+str(param)+'.pkl', 'wb') as file:\n",
    "        pickle.dump(resultados_fsa, file)\n",
    "        print(\"Dados para T0={0}, K={1} e N={2} para FSA guardados\".format(*param))"
   ]
  },
  {
   "cell_type": "code",
   "execution_count": null,
   "metadata": {},
   "outputs": [],
   "source": [
    "from itertools import combinations, product\n",
    "import multiprocessing\n",
    "N = [int(1e5), int(1e6)]\n",
    "kmax = [8, 12, 16]\n",
    "T0 = [0.5, 0.1]\n",
    "mean_start = [0, 1]\n",
    "parameters = list(product(T0, kmax, N, mean_start))\n",
    "\n",
    "pool = multiprocessing.Pool(12)\n",
    "pool.map(run, parameters)"
   ]
  },
  {
   "cell_type": "code",
   "execution_count": null,
   "metadata": {},
   "outputs": [],
   "source": [
    "pool.terminate()"
   ]
  },
  {
   "cell_type": "code",
   "execution_count": null,
   "metadata": {},
   "outputs": [],
   "source": [
    "with open('dados_novos_desbalanceamento_10.pkl', 'rb') as file:\n",
    "    d10 = pickle.load(file)\n",
    "with open('dados_novos_desbalanceamento_20.pkl', 'rb') as file:\n",
    "    d20 = pickle.load(file)\n",
    "data = {'10':d10, '20':d20}"
   ]
  },
  {
   "cell_type": "code",
   "execution_count": null,
   "metadata": {},
   "outputs": [],
   "source": [
    "def run(param):\n",
    "    desb = [10, 20]\n",
    "    dim = [15, 20]\n",
    "    resultados_sa = {}\n",
    "    resultados_fsa = {}\n",
    "    t0, k, n, mean_start = param\n",
    "    for i in desb:\n",
    "        resultados_sa[str(i)] = {}\n",
    "        for d in dim:\n",
    "            X = data[str(i)]['X_R'+str(d)][:,:-1]\n",
    "            t1=time()\n",
    "            sa_tmp = list(SA(X, t0, k, 3, n, mean_start))\n",
    "            t2=time()\n",
    "            sa_tmp.append(t2-t1)\n",
    "            if str(i) not in resultados_sa:\n",
    "                resultados_sa[str(i)] = {}\n",
    "            resultados_sa[str(i)][str(d)] = sa_tmp\n",
    "\n",
    "            t1=time()\n",
    "            fsa_tmp = list(FSA(X, t0, k, 3, n, mean_start))\n",
    "            t2=time()\n",
    "            fsa_tmp.append(t2-t1)\n",
    "            if str(i) not in resultados_fsa:\n",
    "                resultados_fsa[str(i)] = {}\n",
    "            resultados_fsa[str(i)][str(d)] = fsa_tmp\n",
    "    with open('resultados_R15_e_R20/resultados_SA_param='+str(param)+'.pkl', 'wb') as file:\n",
    "        pickle.dump(resultados_sa, file)\n",
    "        print(\"Dados para T0={0}, K={1} e N={2} para SA guardados\".format(*param))\n",
    "    with open('resultados_R15_e_R20/resultados_FSA_param='+str(param)+'.pkl', 'wb') as file:\n",
    "        pickle.dump(resultados_fsa, file)\n",
    "        print(\"Dados para T0={0}, K={1} e N={2} para FSA guardados\".format(*param))"
   ]
  },
  {
   "cell_type": "code",
   "execution_count": null,
   "metadata": {
    "scrolled": true
   },
   "outputs": [],
   "source": [
    "from itertools import combinations, product\n",
    "import multiprocessing\n",
    "N = [int(1e5), int(1e6)]\n",
    "kmax = [12, 16]\n",
    "T0 = [0.1]\n",
    "mean_start = [0, 1]\n",
    "parameters = list(product(T0, kmax, N, mean_start))\n",
    "\n",
    "pool = multiprocessing.Pool(12)\n",
    "pool.map(run, parameters)"
   ]
  },
  {
   "cell_type": "code",
   "execution_count": null,
   "metadata": {},
   "outputs": [],
   "source": [
    "pool.terminate()"
   ]
  }
 ],
 "metadata": {
  "kernelspec": {
   "display_name": "Python 3",
   "language": "python",
   "name": "python3"
  },
  "language_info": {
   "codemirror_mode": {
    "name": "ipython",
    "version": 3
   },
   "file_extension": ".py",
   "mimetype": "text/x-python",
   "name": "python",
   "nbconvert_exporter": "python",
   "pygments_lexer": "ipython3",
   "version": "3.8.3"
  }
 },
 "nbformat": 4,
 "nbformat_minor": 4
}
